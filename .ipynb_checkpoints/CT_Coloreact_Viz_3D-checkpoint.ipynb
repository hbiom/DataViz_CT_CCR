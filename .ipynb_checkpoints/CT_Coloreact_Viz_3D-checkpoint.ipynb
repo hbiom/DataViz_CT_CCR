{
 "cells": [
  {
   "cell_type": "code",
   "execution_count": 83,
   "metadata": {
    "colab": {
     "base_uri": "https://localhost:8080/"
    },
    "id": "f8KI9TU_eONh",
    "outputId": "3b1306a9-9eae-44aa-8162-99de4cd886d3"
   },
   "outputs": [
    {
     "name": "stdout",
     "output_type": "stream",
     "text": [
      "Requirement already satisfied: SimpleITK in /usr/local/lib/python3.7/dist-packages (2.0.2)\n",
      "Requirement already satisfied: nibabel in /usr/local/lib/python3.7/dist-packages (3.0.2)\n",
      "Requirement already satisfied: numpy>=1.12 in /usr/local/lib/python3.7/dist-packages (from nibabel) (1.19.5)\n"
     ]
    }
   ],
   "source": [
    "#!pip install SimpleITK\n",
    "#!pip install nibabel\n",
    "# !pip install radiomics\n",
    "# !pip install pyradiomics"
   ]
  },
  {
   "cell_type": "code",
   "execution_count": 1,
   "metadata": {
    "id": "zWhNNuD0ua4_"
   },
   "outputs": [
    {
     "ename": "ModuleNotFoundError",
     "evalue": "No module named 'nibabel'",
     "output_type": "error",
     "traceback": [
      "\u001b[0;31m---------------------------------------------------------------------------\u001b[0m",
      "\u001b[0;31mModuleNotFoundError\u001b[0m                       Traceback (most recent call last)",
      "\u001b[0;32m<ipython-input-1-aa7dc83f68d8>\u001b[0m in \u001b[0;36m<module>\u001b[0;34m\u001b[0m\n\u001b[1;32m      1\u001b[0m \u001b[0;32mimport\u001b[0m \u001b[0mos\u001b[0m\u001b[0;34m\u001b[0m\u001b[0;34m\u001b[0m\u001b[0m\n\u001b[1;32m      2\u001b[0m \u001b[0;32mimport\u001b[0m \u001b[0mimageio\u001b[0m\u001b[0;34m\u001b[0m\u001b[0;34m\u001b[0m\u001b[0m\n\u001b[0;32m----> 3\u001b[0;31m \u001b[0;32mimport\u001b[0m \u001b[0mnibabel\u001b[0m \u001b[0;32mas\u001b[0m \u001b[0mnib\u001b[0m\u001b[0;34m\u001b[0m\u001b[0;34m\u001b[0m\u001b[0m\n\u001b[0m\u001b[1;32m      4\u001b[0m \u001b[0;32mimport\u001b[0m \u001b[0mscipy\u001b[0m\u001b[0;34m.\u001b[0m\u001b[0mndimage\u001b[0m \u001b[0;32mas\u001b[0m \u001b[0mndi\u001b[0m\u001b[0;34m\u001b[0m\u001b[0;34m\u001b[0m\u001b[0m\n\u001b[1;32m      5\u001b[0m \u001b[0;32mimport\u001b[0m \u001b[0mpandas\u001b[0m \u001b[0;32mas\u001b[0m \u001b[0mpd\u001b[0m\u001b[0;34m\u001b[0m\u001b[0;34m\u001b[0m\u001b[0m\n",
      "\u001b[0;31mModuleNotFoundError\u001b[0m: No module named 'nibabel'"
     ]
    }
   ],
   "source": [
    "import os\n",
    "import imageio\n",
    "import nibabel as nib\n",
    "import scipy.ndimage as ndi\n",
    "import pandas as pd\n",
    "import matplotlib.pyplot as plt\n",
    "import matplotlib as mpl\n",
    "mpl.rcParams.update(mpl.rcParamsDefault)\n",
    "\n",
    "import seaborn as sns\n",
    "import math\n",
    "import numpy as np\n",
    "import matplotlib.pyplot as plt\n",
    "import SimpleITK as sitk"
   ]
  },
  {
   "cell_type": "code",
   "execution_count": 85,
   "metadata": {
    "id": "XUBRvT65lrQU"
   },
   "outputs": [],
   "source": [
    "base_url = '/content/drive/MyDrive/Task10_Colon/'\n",
    "path_to_images = base_url + 'imagesTr/'\n",
    "path_to_mask = base_url + 'labelsTr/'\n",
    "filenames = os.listdir(path_to_images)\n",
    "filenames = [i for i in os.listdir(path_to_images) if not i.startswith(\".\")]"
   ]
  },
  {
   "cell_type": "code",
   "execution_count": 103,
   "metadata": {
    "id": "UQ94wgQKjTLb"
   },
   "outputs": [],
   "source": [
    "def has_tumor(mask):\n",
    "    return sum(mask.ravel()) > 0\n",
    "\n",
    "def get_index_tumor_slice(images, masks):\n",
    "  '''\n",
    "    Return index of images/masks where tumor is visible\n",
    "    images and masks are 2D or 3D array with same dimensions\n",
    "  '''\n",
    "  tumor_idx = []\n",
    "  if len(masks.shape) == 3:\n",
    "    for idx in range(0, masks.shape[2]):\n",
    "      # detect binary mask with no tumor (all pixel equal to 0)\n",
    "      print(has_tumor(masks[:,:,idx]))\n",
    "      #if has_tumor(masks[:,:,idx]):\n",
    "      if len(np.unique(masks[:,:,idx])) != 1:\n",
    "        tumor_idx.append(idx)\n",
    "  elif len(masks.shape) == 2:\n",
    "      # detect binary mask with no tumor (all pixel equal to 0)\n",
    "    #if has_tumor(masks[:,:,idx]):\n",
    "    if len(np.unique(masks)) != 1:\n",
    "      tumor_idx.append(idx)\n",
    "\n",
    "  if not tumor_idx:\n",
    "    raise ValueError(\"There must be at least one slice with tumor\")\n",
    "  else:\n",
    "    return tumor_idx "
   ]
  },
  {
   "cell_type": "code",
   "execution_count": 104,
   "metadata": {
    "colab": {
     "base_uri": "https://localhost:8080/"
    },
    "id": "k3Zu3OrF2RRn",
    "outputId": "1503974a-2d65-41c9-84c7-934b03cbbbb5"
   },
   "outputs": [
    {
     "data": {
      "text/plain": [
       "[55, 56, 57, 58, 59, 60, 61, 62, 63, 64]"
      ]
     },
     "execution_count": 104,
     "metadata": {
      "tags": []
     },
     "output_type": "execute_result"
    }
   ],
   "source": [
    "def image_picker(min_slice, max_slice):\n",
    "    '''\n",
    "    return an array containing (max 18) equidistant index number between min_slice and max_slice\n",
    "    min_slice and max_slice are interger (min_slice cannot be >= max_slice)\n",
    "    '''\n",
    "    row = 3\n",
    "    col = 6\n",
    "    picker = (max_slice - min_slice)/(row*col)\n",
    "    picker = math.ceil(picker)\n",
    "    index_list = []\n",
    "    index = min_slice\n",
    "    for i in range(row*col):\n",
    "      if index < max_slice-1:\n",
    "        index_list.append(index)\n",
    "        index += picker\n",
    "      else:\n",
    "        index_list.append(max_slice-1)\n",
    "        break\n",
    "    return index_list\n",
    "\n",
    "image_picker(min_slice=55, max_slice = 65)"
   ]
  },
  {
   "cell_type": "code",
   "execution_count": 105,
   "metadata": {
    "id": "KegBtEIoRsUi"
   },
   "outputs": [],
   "source": [
    "def get_bounding_box(mask, crop_margin=0):\n",
    "    \"\"\"\n",
    "    Return the bounding box of a mask image.\n",
    "    https://github.com/guillaumefrd/brain-tumor-mri-dataset/blob/master/data_visualization.ipynb\n",
    "    \"\"\"\n",
    "    xmin, ymin, xmax, ymax = 0, 0, 0, 0\n",
    "\n",
    "    for row in range(mask.shape[0]):\n",
    "        if mask[row, :].max() != 0:\n",
    "            ymin = row + crop_margin\n",
    "            break\n",
    "\n",
    "    for row in range(mask.shape[0] - 1, -1, -1):\n",
    "        if mask[row, :].max() != 0:\n",
    "            ymax = row + crop_margin\n",
    "            break\n",
    "\n",
    "    for col in range(mask.shape[1]):\n",
    "        if mask[:, col].max() != 0:\n",
    "            xmin = col + crop_margin\n",
    "            break\n",
    "\n",
    "    for col in range(mask.shape[1] - 1, -1, -1):\n",
    "        if mask[:, col].max() != 0:\n",
    "            xmax = col + crop_margin\n",
    "            break\n",
    "\n",
    "    return xmin, ymin, xmax, ymax\n",
    "\n",
    "\n",
    "def crop_to_bbox(image, bbox, crop_margin=0):\n",
    "    \"\"\"\n",
    "    Crop an image to the bounding by forcing a squared image as output.\n",
    "    https://github.com/guillaumefrd/brain-tumor-mri-dataset/blob/master/data_visualization.ipynb\n",
    "    \"\"\"\n",
    "    x1, y1, x2, y2 =  bbox\n",
    "    \n",
    "    # force a squared image\n",
    "    max_width_height = np.maximum(y2 - y1, x2 - x1)\n",
    "    y2 = y1 + max_width_height\n",
    "    x2 = x1 + max_width_height\n",
    "\n",
    "    # in case coordinates are out of image boundaries\n",
    "    y1 = np.maximum(y1 - crop_margin, 0)\n",
    "    y2 = np.minimum(y2 + crop_margin, image.shape[0])\n",
    "    x1 = np.maximum(x1 - crop_margin, 0)\n",
    "    x2 = np.minimum(x2 + crop_margin, image.shape[1])\n",
    "    \n",
    "    return image[y1:y2, x1:x2]"
   ]
  },
  {
   "cell_type": "code",
   "execution_count": 89,
   "metadata": {
    "id": "YeP8mI0KjdW-"
   },
   "outputs": [],
   "source": [
    "# file = []\n",
    "# nbslice = []\n",
    "# nbslice_tumor = []\n",
    "\n",
    "# for filename in filenames:\n",
    "#   image_3d = nib.load(os.path.join(path_to_images, filename)).get_fdata()\n",
    "#   mask_3d = nib.load(os.path.join(path_to_mask, filename)).get_fdata()\n",
    "\n",
    "#   # check if size mask and image are equal\n",
    "#   if image_3d.shape[0] != mask_3d.shape[0] or image_3d.shape[1] != mask_3d.shape[1]:\n",
    "#     print(\"size different betwenn mask and image\")\n",
    "#       # check if same number of slice in mask and image\n",
    "#   elif image_3d.shape[2] != image_3d.shape[2]:\n",
    "#     print(\"slice number different betwenn mask and image\")\n",
    "#   else:\n",
    "#     print(\"{} : {}/{} : {} total slices)\".format(filename, image_3d.shape[0],image_3d.shape[1],image_3d.shape[2]))\n",
    "#     index_tumor = get_index_tumor_slice(image_3d, mask_3d)\n",
    "#     imgTumors = image_3d[:,:,index_tumor]\n",
    "#     maskTumors = mask_3d[:,:,index_tumor]\n",
    "\n",
    "#     print(\"{} : {}/{} : {} total slices with tumors)\".format(filename, imgTumors.shape[0],imgTumors.shape[1],imgTumors.shape[2]))\n",
    "#     slice_image = image_3d.shape[2]\n",
    "#     slice_image_with_tumors = imgTumors.shape[2]\n",
    "\n",
    "#     file.append(filename)\n",
    "#     nbslice.append(slice_image - slice_image_with_tumors)\n",
    "#     nbslice_tumor.append(slice_image_with_tumors)\n",
    "#     df = pd.DataFrame({'name': pd.Series(file), 'nbrslide': pd.Series(nbslice),'nbslice_tumor':pd.Series(nbslice_tumor)})\n",
    "\n",
    "# df.to_csv(\"CCR_slides.csv\", index=False)\n"
   ]
  },
  {
   "cell_type": "code",
   "execution_count": 90,
   "metadata": {
    "id": "fQC6rcs_pBXM"
   },
   "outputs": [],
   "source": [
    "# formatted_df = pd.melt(df, id_vars=[\"name\"], value_vars=[\"nbrslide\",\"nbslice_tumor\"], var_name=\"slice_type\")\n",
    "# formatted_df = formatted_df.sort_values(by=[\"name\"])\n",
    "# formatted_df.head()"
   ]
  },
  {
   "cell_type": "code",
   "execution_count": 91,
   "metadata": {
    "id": "CtZTjd5bTwlu"
   },
   "outputs": [],
   "source": [
    "# import seaborn as sns\n",
    "\n",
    "# data = formatted_df.groupby(\"slice_type\")[\"value\"].sum()\n",
    "\n",
    "# plt.figure(figsize=(16, 8))\n",
    "# plt.subplot(3, 6, 1)\n",
    "# sns.boxplot(x=\"slice_type\",y=\"value\", data=formatted_df)\n",
    "# plt.subplot(3, 6, 2)\n",
    "\n",
    "# labels = data.keys()\n",
    "# plt.pie(x=data, autopct=\"%.1f%%\", explode=[0.05]*2, labels=labels)\n",
    "# plt.title(\"Slice type\", fontsize=14);\n"
   ]
  },
  {
   "cell_type": "code",
   "execution_count": 92,
   "metadata": {
    "id": "svBwAX6NMRAg"
   },
   "outputs": [],
   "source": [
    "# import seaborn as sns\n",
    "# # matplotlib histogram\n",
    "# import matplotlib.pyplot as plt\n",
    "# %matplotlib inline\n",
    "# plt.rcParams.update({'figure.figsize':(6,4), 'figure.dpi':100})\n",
    "\n",
    "# # Plot Histogram on x\n",
    "\n",
    "# data = formatted_df.groupby(\"slice_type\")[\"value\"].sum()\n",
    "# plt.bar(data,height=1500)\n",
    "# #plt.hist(df['nbrslide'], bins=25)\n",
    "# plt.gca().set(title='Number of slice by patient', ylabel='Frequency', xlabel='Number of slice')\n",
    "# plt.show()\n",
    "\n",
    "# # Plot Histogram on x\n",
    "# plt.hist(df['nbslice_tumor'], bins=25)\n",
    "# plt.gca().set(title='Number of slice by patient', ylabel='Frequency', xlabel='Number of slice')\n",
    "# plt.show()"
   ]
  },
  {
   "cell_type": "code",
   "execution_count": 106,
   "metadata": {
    "id": "efhpFB90z91-"
   },
   "outputs": [],
   "source": [
    "def plot_bbox_image(images, masks, crop_margin=0, zooming=False):\n",
    "  '''\n",
    "    Plot equidistant slices with bounding boxe containing the tumor \n",
    "    masks is binary (0 : pixel do not contained tumor , 1 : pixel containing tumor)\n",
    "    images and masks are 2D array with same dimensions\n",
    "  '''\n",
    "  \n",
    "  if len(masks.shape) != 2:\n",
    "    raise ValueError(\"only accept one array of 2D dimension\")\n",
    "  # elif len(np.unique(masks)) == 1:\n",
    "  #   raise ValueError(\"mask do not contain tumor\")\n",
    "\n",
    "  xmin, ymin, xmax, ymax = get_bounding_box(masks, crop_margin)\n",
    "  \n",
    "  plt.imshow(images, cmap='gray')\n",
    "  plt.plot([xmin, xmax], [ymin, ymin], color='red')\n",
    "  plt.plot([xmax, xmax], [ymin, ymax], color='red')\n",
    "  plt.plot([xmin, xmin], [ymin, ymax], color='red')\n",
    "  plt.plot([xmin, xmax], [ymax, ymax], color='red')\n",
    "\n",
    "  if zooming:\n",
    "    plt.plot([xmax, 511], [ymax, 511], color='red')\n",
    "    plt.plot([xmax, 511], [ymin, 0], color='red')"
   ]
  },
  {
   "cell_type": "code",
   "execution_count": 113,
   "metadata": {
    "colab": {
     "base_uri": "https://localhost:8080/"
    },
    "id": "E5ScU47lgE1G",
    "outputId": "1db11b6f-cc5a-40c7-ac12-8a529167e6ce"
   },
   "outputs": [
    {
     "data": {
      "text/plain": [
       "[55, 56, 57, 58, 59, 60, 61, 62, 63, 64]"
      ]
     },
     "execution_count": 113,
     "metadata": {
      "tags": []
     },
     "output_type": "execute_result"
    }
   ],
   "source": [
    "def image_picker(min_slice, max_slice):\n",
    "    row = 3\n",
    "    col = 6\n",
    "    picker = (max_slice - min_slice)/(row*col)\n",
    "    picker = math.ceil(picker)\n",
    "    index_list = []\n",
    "    index = min_slice\n",
    "    for i in range(row*col):\n",
    "      if index < max_slice-1:\n",
    "        index_list.append(index)\n",
    "        index += picker\n",
    "      else:\n",
    "        index_list.append(max_slice-1)\n",
    "        break\n",
    "    return index_list\n",
    "\n",
    "\n",
    "image_picker(min_slice=55, max_slice = 65)"
   ]
  },
  {
   "cell_type": "code",
   "execution_count": 114,
   "metadata": {
    "id": "GDNtoTONw6Uu"
   },
   "outputs": [],
   "source": [
    "def PlotImage(images, masks=None, show_tumor_only = False, show_tumor_mask = True, frame = False):\n",
    "  '''\n",
    "    Plot equidistant slices along mask and corresponding images along col/row grid \n",
    "    masks is binary (0 : pixel do not contained tumor , 1 : pixel containing tumor)\n",
    "    images and masks are 2D or 3D array with same dimensions\n",
    "    if masks = None, Only images are displayed\n",
    "    if show_tumor_only = True: Only images containing tumor and corresponding masks are displayed\n",
    "    if show_tumor_mask = True (default) : Display tumor mask with corresponding images\n",
    "    if frame = True : Display bounding bow with corresponding images\n",
    "  '''\n",
    "  images = np.rot90(images, axes=(0, 1))\n",
    "\n",
    "  if show_tumor_only:\n",
    "    images_idx = get_index_tumor_slice(images, masks)\n",
    "    slices_picker = image_picker(min_slice = images_idx[0], max_slice=images_idx[-1])\n",
    "  else:\n",
    "    slices_picker = image_picker(min_slice = 0, max_slice=images.shape[2])\n",
    "    \n",
    "  if masks is not None:\n",
    "    masks = np.rot90(masks, axes=(0, 1))\n",
    "\n",
    "  print(slices_picker)\n",
    "\n",
    "  row = 3\n",
    "  col = 6\n",
    "\n",
    "  plt.figure(figsize=(16, 8))\n",
    "  for i, idx in enumerate(slices_picker):\n",
    "    plt.subplot(row, col, i+1)\n",
    "    plt.imshow(images[:,:,idx], cmap='gray')\n",
    "\n",
    "    if masks is not None:\n",
    "      if show_tumor_mask:\n",
    "        tumor = np.ma.masked_where(masks[:,:,idx] == False, masks[:,:,idx])\n",
    "        plt.imshow(tumor, cmap='Set1')\n",
    "      if frame:\n",
    "        plot_bbox_image(images[:,:,idx], masks[:,:,idx], crop_margin=0, zooming=False)\n",
    "      if frame and show_tumor_mask:\n",
    "        plot_bbox_image(images[:,:,idx], masks[:,:,idx], crop_margin=0, zooming=False)\n",
    "        plt.imshow(tumor, cmap='Set1')\n",
    "    plt.title(str(idx+1))\n",
    "    plt.axis('off')\n"
   ]
  },
  {
   "cell_type": "code",
   "execution_count": 117,
   "metadata": {
    "id": "7oOfJuR9H2sA"
   },
   "outputs": [],
   "source": [
    "filename = \"colon_050.nii.gz\"\n",
    "\n",
    "image_3d = nib.load(os.path.join(path_to_images, filename)).get_fdata()\n",
    "mask_3d = nib.load(os.path.join(path_to_mask, filename)).get_fdata()\n",
    "\n",
    "image_3d = image_3d[:,:,:4]\n",
    "mask_3d = mask_3d[:,:,:4]\n",
    "\n"
   ]
  },
  {
   "cell_type": "code",
   "execution_count": 118,
   "metadata": {
    "colab": {
     "base_uri": "https://localhost:8080/"
    },
    "id": "tqzNBt3XDhXb",
    "outputId": "15e00467-23bc-41e2-9f8c-b80e5bf033be"
   },
   "outputs": [
    {
     "name": "stdout",
     "output_type": "stream",
     "text": [
      "[0, 1, 2, 3]\n"
     ]
    },
    {
     "name": "stderr",
     "output_type": "stream",
     "text": [
      "/usr/local/lib/python3.7/dist-packages/ipykernel_launcher.py:27: RuntimeWarning: More than 20 figures have been opened. Figures created through the pyplot interface (`matplotlib.pyplot.figure`) are retained until explicitly closed and may consume too much memory. (To control this warning, see the rcParam `figure.max_open_warning`).\n"
     ]
    }
   ],
   "source": [
    "PlotImage(images = image_3d)"
   ]
  },
  {
   "cell_type": "code",
   "execution_count": 98,
   "metadata": {
    "colab": {
     "base_uri": "https://localhost:8080/"
    },
    "id": "DqkzDUmynjX1",
    "outputId": "34cd0741-994a-448d-f83c-d503f0feaa1f"
   },
   "outputs": [
    {
     "name": "stdout",
     "output_type": "stream",
     "text": [
      "4\n"
     ]
    },
    {
     "name": "stderr",
     "output_type": "stream",
     "text": [
      "/usr/local/lib/python3.7/dist-packages/ipykernel_launcher.py:25: RuntimeWarning: More than 20 figures have been opened. Figures created through the pyplot interface (`matplotlib.pyplot.figure`) are retained until explicitly closed and may consume too much memory. (To control this warning, see the rcParam `figure.max_open_warning`).\n"
     ]
    }
   ],
   "source": [
    "PlotImage(images = image_3d, masks = mask_3d)"
   ]
  },
  {
   "cell_type": "code",
   "execution_count": 99,
   "metadata": {
    "colab": {
     "base_uri": "https://localhost:8080/"
    },
    "id": "VGF9xv1oDRFV",
    "outputId": "a57f102d-9754-4db0-bc87-df88ca664b54"
   },
   "outputs": [
    {
     "name": "stdout",
     "output_type": "stream",
     "text": [
      "False\n",
      "False\n",
      "False\n",
      "False\n",
      "False\n",
      "False\n",
      "False\n",
      "False\n",
      "False\n",
      "False\n",
      "False\n",
      "False\n",
      "False\n",
      "False\n",
      "False\n",
      "False\n",
      "False\n",
      "False\n",
      "False\n",
      "False\n",
      "False\n",
      "False\n",
      "False\n",
      "False\n",
      "False\n",
      "False\n",
      "False\n",
      "False\n",
      "False\n",
      "False\n",
      "False\n",
      "False\n",
      "False\n",
      "False\n",
      "False\n",
      "False\n",
      "False\n",
      "False\n",
      "False\n",
      "False\n",
      "False\n",
      "False\n",
      "False\n",
      "False\n",
      "False\n",
      "False\n",
      "False\n",
      "False\n",
      "False\n",
      "False\n",
      "False\n",
      "False\n",
      "False\n",
      "False\n",
      "False\n",
      "True\n",
      "True\n",
      "True\n",
      "True\n",
      "True\n",
      "True\n",
      "1\n"
     ]
    },
    {
     "name": "stderr",
     "output_type": "stream",
     "text": [
      "/usr/local/lib/python3.7/dist-packages/ipykernel_launcher.py:25: RuntimeWarning: More than 20 figures have been opened. Figures created through the pyplot interface (`matplotlib.pyplot.figure`) are retained until explicitly closed and may consume too much memory. (To control this warning, see the rcParam `figure.max_open_warning`).\n"
     ]
    }
   ],
   "source": [
    "PlotImage(images = image_3d, masks = mask_3d, show_tumor_mask = True, show_tumor_only = True, frame = False)"
   ]
  },
  {
   "cell_type": "code",
   "execution_count": 100,
   "metadata": {
    "colab": {
     "base_uri": "https://localhost:8080/"
    },
    "id": "jVZfxiUdCFt0",
    "outputId": "4158591e-02e2-49f7-b2e1-62f3dc4aa267"
   },
   "outputs": [
    {
     "name": "stdout",
     "output_type": "stream",
     "text": [
      "False\n",
      "False\n",
      "False\n",
      "False\n",
      "False\n",
      "False\n",
      "False\n",
      "False\n",
      "False\n",
      "False\n",
      "False\n",
      "False\n",
      "False\n",
      "False\n",
      "False\n",
      "False\n",
      "False\n",
      "False\n",
      "False\n",
      "False\n",
      "False\n",
      "False\n",
      "False\n",
      "False\n",
      "False\n",
      "False\n",
      "False\n",
      "False\n",
      "False\n",
      "False\n",
      "False\n",
      "False\n",
      "False\n",
      "False\n",
      "False\n",
      "False\n",
      "False\n",
      "False\n",
      "False\n",
      "False\n",
      "False\n",
      "False\n",
      "False\n",
      "False\n",
      "False\n",
      "False\n",
      "False\n",
      "False\n",
      "False\n",
      "False\n",
      "False\n",
      "False\n",
      "False\n",
      "False\n",
      "False\n",
      "True\n",
      "True\n",
      "True\n",
      "True\n",
      "True\n",
      "True\n",
      "1\n"
     ]
    },
    {
     "name": "stderr",
     "output_type": "stream",
     "text": [
      "/usr/local/lib/python3.7/dist-packages/ipykernel_launcher.py:25: RuntimeWarning: More than 20 figures have been opened. Figures created through the pyplot interface (`matplotlib.pyplot.figure`) are retained until explicitly closed and may consume too much memory. (To control this warning, see the rcParam `figure.max_open_warning`).\n"
     ]
    }
   ],
   "source": [
    "PlotImage(images = image_3d, masks = mask_3d, show_tumor_mask = True, show_tumor_only = True, frame = True)"
   ]
  },
  {
   "cell_type": "code",
   "execution_count": 101,
   "metadata": {
    "colab": {
     "base_uri": "https://localhost:8080/",
     "height": 276
    },
    "id": "UpeDn_X7_wjf",
    "outputId": "5490bc0f-54fb-4440-b016-6d65941e176e"
   },
   "outputs": [
    {
     "name": "stdout",
     "output_type": "stream",
     "text": [
      "85\n"
     ]
    },
    {
     "name": "stderr",
     "output_type": "stream",
     "text": [
      "/usr/local/lib/python3.7/dist-packages/ipykernel_launcher.py:20: RuntimeWarning: More than 20 figures have been opened. Figures created through the pyplot interface (`matplotlib.pyplot.figure`) are retained until explicitly closed and may consume too much memory. (To control this warning, see the rcParam `figure.max_open_warning`).\n"
     ]
    },
    {
     "ename": "NameError",
     "evalue": "ignored",
     "output_type": "error",
     "traceback": [
      "\u001b[0;31m---------------------------------------------------------------------------\u001b[0m",
      "\u001b[0;31mNameError\u001b[0m                                 Traceback (most recent call last)",
      "\u001b[0;32m<ipython-input-101-3a065a44b153>\u001b[0m in \u001b[0;36m<module>\u001b[0;34m()\u001b[0m\n\u001b[1;32m     30\u001b[0m \u001b[0mbbox\u001b[0m \u001b[0;34m=\u001b[0m \u001b[0mget_bounding_box\u001b[0m\u001b[0;34m(\u001b[0m\u001b[0mmasks\u001b[0m\u001b[0;34m)\u001b[0m\u001b[0;34m\u001b[0m\u001b[0;34m\u001b[0m\u001b[0m\n\u001b[1;32m     31\u001b[0m \u001b[0mcroped_image\u001b[0m \u001b[0;34m=\u001b[0m \u001b[0mcrop_to_bbox\u001b[0m\u001b[0;34m(\u001b[0m\u001b[0mimages\u001b[0m\u001b[0;34m,\u001b[0m \u001b[0mbbox\u001b[0m\u001b[0;34m,\u001b[0m \u001b[0mcrop_margin\u001b[0m\u001b[0;34m=\u001b[0m\u001b[0;36m10\u001b[0m\u001b[0;34m)\u001b[0m\u001b[0;34m\u001b[0m\u001b[0;34m\u001b[0m\u001b[0m\n\u001b[0;32m---> 32\u001b[0;31m \u001b[0mcroped_image\u001b[0m \u001b[0;34m=\u001b[0m \u001b[0mcv2\u001b[0m\u001b[0;34m.\u001b[0m\u001b[0mresize\u001b[0m\u001b[0;34m(\u001b[0m\u001b[0mcroped_image\u001b[0m\u001b[0;34m,\u001b[0m \u001b[0mdsize\u001b[0m\u001b[0;34m=\u001b[0m\u001b[0;34m(\u001b[0m\u001b[0;36m512\u001b[0m\u001b[0;34m,\u001b[0m\u001b[0;36m512\u001b[0m\u001b[0;34m)\u001b[0m\u001b[0;34m,\u001b[0m \u001b[0minterpolation\u001b[0m\u001b[0;34m=\u001b[0m\u001b[0mcv2\u001b[0m\u001b[0;34m.\u001b[0m\u001b[0mINTER_CUBIC\u001b[0m\u001b[0;34m)\u001b[0m\u001b[0;34m\u001b[0m\u001b[0;34m\u001b[0m\u001b[0m\n\u001b[0m\u001b[1;32m     33\u001b[0m \u001b[0mplt\u001b[0m\u001b[0;34m.\u001b[0m\u001b[0mimshow\u001b[0m\u001b[0;34m(\u001b[0m\u001b[0mcroped_image\u001b[0m\u001b[0;34m,\u001b[0m \u001b[0mcmap\u001b[0m\u001b[0;34m=\u001b[0m\u001b[0;34m'gray'\u001b[0m\u001b[0;34m)\u001b[0m\u001b[0;34m\u001b[0m\u001b[0;34m\u001b[0m\u001b[0m\n\u001b[1;32m     34\u001b[0m \u001b[0mplt\u001b[0m\u001b[0;34m.\u001b[0m\u001b[0mtick_params\u001b[0m\u001b[0;34m(\u001b[0m\u001b[0maxis\u001b[0m\u001b[0;34m=\u001b[0m\u001b[0;34m'both'\u001b[0m\u001b[0;34m,\u001b[0m\u001b[0mlength\u001b[0m\u001b[0;34m=\u001b[0m\u001b[0;36m0\u001b[0m\u001b[0;34m,\u001b[0m \u001b[0mlabelsize\u001b[0m\u001b[0;34m=\u001b[0m\u001b[0;36m0\u001b[0m\u001b[0;34m)\u001b[0m\u001b[0;34m\u001b[0m\u001b[0;34m\u001b[0m\u001b[0m\n",
      "\u001b[0;31mNameError\u001b[0m: name 'cv2' is not defined"
     ]
    }
   ],
   "source": [
    "import matplotlib as mpl\n",
    "mpl.rcParams.update(mpl.rcParamsDefault)\n",
    "\n",
    "filename = \"colon_050.nii.gz\"\n",
    "image_3d = nib.load(os.path.join(path_to_images, filename)).get_fdata()\n",
    "mask_3d = nib.load(os.path.join(path_to_mask, filename)).get_fdata()\n",
    "\n",
    "row = 3\n",
    "col = 6\n",
    "\n",
    "idx = 86\n",
    "idx -= 1\n",
    "print(idx)\n",
    "images = image_3d[:,:,idx]\n",
    "masks = mask_3d[:,:,idx]\n",
    "\n",
    "images = np.rot90(images, axes=(0, 1))\n",
    "masks = np.rot90(masks, axes=(0, 1))\n",
    "\n",
    "fig = plt.figure(figsize=(24, 16))\n",
    "plt.subplot(row, col, 1)\n",
    "plt.subplots_adjust(wspace=0.02)\n",
    "\n",
    "plot_bbox_image(images, masks, crop_margin = 10, zooming=True)\n",
    "\n",
    "params = {'axes.edgecolor':'red', 'axes.linewidth' : 2}\n",
    "plt.rcParams.update(params)\n",
    "\n",
    "plt.subplot(row, col, 2)\n",
    "bbox = get_bounding_box(masks)\n",
    "croped_image = crop_to_bbox(images, bbox, crop_margin=10)\n",
    "croped_image = cv2.resize(croped_image, dsize=(512,512), interpolation=cv2.INTER_CUBIC)\n",
    "plt.imshow(croped_image, cmap='gray')\n",
    "plt.tick_params(axis='both',length=0, labelsize=0)\n",
    "\n",
    "\n",
    "plt.subplot(row, col, 3)\n",
    "croped_masks = crop_to_bbox(masks, bbox, crop_margin=10)\n",
    "croped_masks = cv2.resize(croped_masks, dsize=(512,512), interpolation=cv2.INTER_CUBIC)\n",
    "croped_tumor = np.ma.masked_where(croped_masks == False, croped_image)\n",
    "croped_tumor_background = np.ma.masked_where(croped_masks == True, np.zeros((512, 512)))\n",
    "plt.imshow(croped_tumor, cmap='gray')\n",
    "plt.imshow(croped_tumor_background, cmap='gray')\n",
    "plt.tick_params(axis='both',length=0, labelsize=0)\n",
    "\n",
    "mpl.rcParams.update(mpl.rcParamsDefault)\n",
    "\n",
    "#fig.savefig('comparison.png', dpi=200) "
   ]
  },
  {
   "cell_type": "code",
   "execution_count": null,
   "metadata": {
    "id": "hGETCvopKKIB"
   },
   "outputs": [],
   "source": [
    "# def mask_edge(mask):\n",
    "\n",
    "#   # Apply Sobel filter along both axes\n",
    "#   sobel_ax0 = ndi.sobel(mask, axis=0)\n",
    "#   sobel_ax1 = ndi.sobel(mask, axis=1)\n",
    "\n",
    "#   # Calculate edge magnitude \n",
    "#   edges = np.sqrt(np.square(sobel_ax0) + np.square(sobel_ax1))\n",
    "\n",
    "#   return edges\n",
    "\n",
    "# bbox = get_bounding_box(mask_3d)\n",
    "# croped_image = crop_to_bbox(image_3d, bbox, crop_margin=10)\n",
    "\n",
    "# print(mask_3d[:,:,0].shape)\n",
    "# print(croped_image.shape)\n",
    "# i = 0\n",
    "# row = 1\n",
    "# col = 3\n",
    "# idx = 85\n",
    "\n",
    "# import cv2\n",
    "\n",
    "# image = image_3d[:,:,idx]\n",
    "# mask = mask_3d[:,:,idx]\n",
    "\n",
    "# plt.figure(figsize=(16, 8))\n",
    "# plt.subplot(row, col, 1)\n",
    "\n",
    "# plt.imshow(np.rot90(image, axes=(0, 1)), cmap='gray')\n",
    "# mask = mask_edge(mask)\n",
    "# tumor = np.ma.masked_where(mask == False, mask)\n",
    "# plt.imshow(np.rot90(tumor, axes=(0, 1)), cmap='Reds')\n",
    "\n",
    "# mask = mask_edge(mask)\n",
    "# croped_mask = crop_to_bbox(mask, bbox, crop_margin=10)\n",
    "# croped_mask = cv2.resize(croped_mask, dsize=(512,512), interpolation=cv2.INTER_CUBIC)\n",
    "# croped_tumor = np.ma.masked_where(mask == False, mask)\n",
    "# plt.imshow(np.rot90(croped_tumor, axes=(0, 1)), cmap='Reds', vmax = 2)\n",
    "\n",
    "# plt.subplot(row, col, 2)\n",
    "\n",
    "# croped_image = crop_to_bbox(image, bbox, crop_margin=10)\n",
    "# croped_image = cv2.resize(croped_image, dsize=(512,512), interpolation=cv2.INTER_CUBIC)\n",
    "# plt.imshow(np.rot90(croped_image, axes=(0, 1)), cmap='gray')\n",
    "\n",
    "# mask = mask_edge(mask)\n",
    "# croped_mask = crop_to_bbox(mask, bbox, crop_margin=10)\n",
    "# croped_mask = cv2.resize(croped_mask, dsize=(512,512), interpolation=cv2.INTER_CUBIC)\n",
    "# croped_tumor = np.ma.masked_where(croped_mask == False, croped_mask)\n",
    "# plt.imshow(np.rot90(croped_tumor, axes=(0, 1)), cmap='Reds', vmax = 100)\n",
    "\n",
    "# plt.axis('off')"
   ]
  }
 ],
 "metadata": {
  "colab": {
   "collapsed_sections": [],
   "name": "CT_Coloreact_Viz_3D.ipynb",
   "provenance": []
  },
  "kernelspec": {
   "display_name": "Python 3",
   "language": "python",
   "name": "python3"
  },
  "language_info": {
   "codemirror_mode": {
    "name": "ipython",
    "version": 3
   },
   "file_extension": ".py",
   "mimetype": "text/x-python",
   "name": "python",
   "nbconvert_exporter": "python",
   "pygments_lexer": "ipython3",
   "version": "3.9.1"
  }
 },
 "nbformat": 4,
 "nbformat_minor": 1
}
